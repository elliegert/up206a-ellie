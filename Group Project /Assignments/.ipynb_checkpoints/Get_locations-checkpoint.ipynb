{
 "cells": [
  {
   "cell_type": "markdown",
   "id": "df109a1f-9b6a-4f14-bbdc-b92e86185bd1",
   "metadata": {},
   "source": [
    "# Intersection network statistics\n",
    "\n",
    "This (incomplete) notebook attempts to output OSMnx stats from a series of locations stored in a dataframe. It has not been tested, but the logic is in place.\n"
   ]
  },
  {
   "cell_type": "code",
   "execution_count": null,
   "id": "25d23870-18a0-4a8e-96bd-0fdf065ef5df",
   "metadata": {},
   "outputs": [],
   "source": [
    "# have a dataframe of your 80 intersections with lat lon columns\n",
    "df"
   ]
  },
  {
   "cell_type": "code",
   "execution_count": null,
   "id": "940e5a4a-eb80-41ec-8c94-05f19327c24e",
   "metadata": {},
   "outputs": [],
   "source": [
    "# add columns to df for metrics that you want to capture. For example:\n",
    "df['street_length_avg']=0"
   ]
  },
  {
   "cell_type": "markdown",
   "id": "84ebe99b-bacf-4dfb-a4f5-a83e75740db5",
   "metadata": {},
   "source": [
    "OSMnx References for this function:\n",
    "\n",
    "- [graph from point](https://osmnx.readthedocs.io/en/stable/osmnx.html?highlight=graph_from_place#osmnx.graph.graph_from_point)\n",
    "- [Basic stats](https://osmnx.readthedocs.io/en/stable/osmnx.html?highlight=simple%20stats#osmnx.stats.basic_stats)"
   ]
  },
  {
   "cell_type": "code",
   "execution_count": null,
   "id": "7ca6f851-26e9-4640-9e0a-9c8966e4a5bd",
   "metadata": {},
   "outputs": [],
   "source": [
    "import osmnx"
   ]
  },
  {
   "cell_type": "code",
   "execution_count": null,
   "id": "3d8e3466-5da6-4091-8631-a690b9c5a7da",
   "metadata": {},
   "outputs": [],
   "source": [
    "# create a function \n",
    "def analyze_intersection(lat,lon):\n",
    "    # call osmnx with a lat/lon pair\n",
    "    # you want to use osmnx.graph.graph_from_point\n",
    "    G = osmnx.graph.graph_from_point((lat,lon),dist=500)\n",
    "    \n",
    "    # call the function that outputs the stats\n",
    "    stats=osmnx.stats.basic_stats(G)\n",
    "\n",
    "    # return observations as a dictionary\n",
    "    d = dict()\n",
    "    d['street_length_avg']=stats['street_length_avg']\n",
    "    return d\n",
    "    "
   ]
  },
  {
   "cell_type": "code",
   "execution_count": null,
   "id": "7c8f6538-25e0-4c99-bebb-94c10438e925",
   "metadata": {},
   "outputs": [],
   "source": [
    "# test the function with a random lat/lon pair\n",
    "analyze_intersection(34.050705, -118.311598)"
   ]
  },
  {
   "cell_type": "code",
   "execution_count": null,
   "id": "63995c7c-b258-4b03-acc6-f6135c792ddd",
   "metadata": {},
   "outputs": [],
   "source": [
    "# loop through the dataframe and analyze\n",
    "for index, row in df.iterrows():\n",
    "    # call the function\n",
    "    this_data = analyze_intersection(row.lat,row.lon)\n",
    "    \n",
    "    # add data to the column you created\n",
    "    df.loc[index, 'street_length_avg'] = this_data['street_length_avg']"
   ]
  }
 ],
 "metadata": {
  "kernelspec": {
   "display_name": "Python 3 (ipykernel)",
   "language": "python",
   "name": "python3"
  },
  "language_info": {
   "codemirror_mode": {
    "name": "ipython",
    "version": 3
   },
   "file_extension": ".py",
   "mimetype": "text/x-python",
   "name": "python",
   "nbconvert_exporter": "python",
   "pygments_lexer": "ipython3",
   "version": "3.9.6"
  }
 },
 "nbformat": 4,
 "nbformat_minor": 5
}
