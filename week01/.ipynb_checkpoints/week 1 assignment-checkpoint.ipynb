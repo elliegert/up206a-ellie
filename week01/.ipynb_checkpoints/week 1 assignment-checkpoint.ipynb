{
 "cells": [
  {
   "cell_type": "markdown",
   "id": "f3ce5c5e-138a-4689-9bf4-888ed756e9c8",
   "metadata": {
    "tags": []
   },
   "source": [
    "# Introduction\n",
    "This notebook explores data from LADOT's High-Injury Network (HIN), which highlights streets with the highest incidences of severe and fatal injury collisions in the City of LA. **LADOT's** description of the data is below:\n",
    "> Even though the HIN represents just 6% of our total street mileage, it accounts for 65% of all deaths and severe injuries involving people walking. \n",
    "Strategic investments along the HIN will have the biggest effect in reducing death and severe injury on our streets.\n",
    "Our methodology draws from the latest 5 years of traffic collision data. \n",
    "The HIN is the guiding document for prioritizing our efforts and the framework for achieving zero traffic deaths by 2025.\n",
    "\n",
    "The dataset can be accessed [here](https://geohub.lacity.org/datasets/ladot::high-injury-network-2/about). "
   ]
  },
  {
   "cell_type": "markdown",
   "id": "edefc41e-9e08-47d1-8526-d76113d70517",
   "metadata": {},
   "source": [
    "# Data Exploration"
   ]
  },
  {
   "cell_type": "markdown",
   "id": "b94fa5bd-b148-4668-9769-a705a05d949b",
   "metadata": {},
   "source": [
    "**Step 1:** Import geopandas module so that I can import the spatial data and plot it on a map"
   ]
  },
  {
   "cell_type": "code",
   "execution_count": 3,
   "id": "0f6843b7-b3bb-47d8-a8db-9b244b8433ea",
   "metadata": {},
   "outputs": [],
   "source": [
    "import geopandas as gpd"
   ]
  },
  {
   "cell_type": "markdown",
   "id": "169693af-c9f0-4180-bf06-674a9b4c01f6",
   "metadata": {},
   "source": [
    "**Step 2:** Import zipped shapefile of data "
   ]
  },
  {
   "cell_type": "code",
   "execution_count": 4,
   "id": "dfa738fc-6149-47f5-b162-c71c592b6465",
   "metadata": {},
   "outputs": [],
   "source": [
    "high_injury_network = gpd.read_file('data/High_Injury_Network-shp.zip')"
   ]
  },
  {
   "cell_type": "markdown",
   "id": "9a1452bf-cf45-481c-a49a-d8beaf0cb25c",
   "metadata": {},
   "source": [
    "**Step 3:** I will find out how many rows and columns of data I have"
   ]
  },
  {
   "cell_type": "code",
   "execution_count": 5,
   "id": "259fc45b-2d6a-43f2-b088-e87c349d68c8",
   "metadata": {},
   "outputs": [
    {
     "data": {
      "text/plain": [
       "(386, 8)"
      ]
     },
     "execution_count": 5,
     "metadata": {},
     "output_type": "execute_result"
    }
   ],
   "source": [
    "high_injury_network.shape"
   ]
  },
  {
   "cell_type": "markdown",
   "id": "7590d572-78fa-4524-8f30-bb600df6874d",
   "metadata": {},
   "source": [
    "* This output shows me that I have 386 rows and 8 columns in this data set"
   ]
  },
  {
   "cell_type": "markdown",
   "id": "cc950baa-f017-49ab-8f02-13922c118ac8",
   "metadata": {},
   "source": [
    "**Step 4:** Next I will get more information about my data frame "
   ]
  },
  {
   "cell_type": "code",
   "execution_count": 6,
   "id": "3c42574c-0595-4a40-acae-b19c7a30595c",
   "metadata": {},
   "outputs": [
    {
     "name": "stdout",
     "output_type": "stream",
     "text": [
      "<class 'geopandas.geodataframe.GeoDataFrame'>\n",
      "RangeIndex: 386 entries, 0 to 385\n",
      "Data columns (total 8 columns):\n",
      " #   Column      Non-Null Count  Dtype   \n",
      "---  ------      --------------  -----   \n",
      " 0   OBJECTID    386 non-null    int64   \n",
      " 1   STNAME      386 non-null    object  \n",
      " 2   Shape_Leng  386 non-null    float64 \n",
      " 3   Shape_Le_1  386 non-null    float64 \n",
      " 4   FROM_       371 non-null    object  \n",
      " 5   TO_         371 non-null    object  \n",
      " 6   GlobalID    386 non-null    object  \n",
      " 7   geometry    386 non-null    geometry\n",
      "dtypes: float64(2), geometry(1), int64(1), object(4)\n",
      "memory usage: 24.2+ KB\n"
     ]
    }
   ],
   "source": [
    "high_injury_network.info()"
   ]
  },
  {
   "cell_type": "markdown",
   "id": "c6b42960-22d7-40fb-891c-b0c3299f9a8b",
   "metadata": {},
   "source": [
    "* This output tells me the names of each of the 8 columns, that both the FROM_ and TO_ columns are msising 15 respones each, and that the types of data range from integers, floats, and strings. "
   ]
  },
  {
   "cell_type": "markdown",
   "id": "73014333-992f-4e0c-80b1-3814ffcc5a87",
   "metadata": {},
   "source": [
    "**Step 5:** Next, I will generate information for the first 5 rows of data "
   ]
  },
  {
   "cell_type": "code",
   "execution_count": 7,
   "id": "690fc6dc-a9e4-4913-a4e2-903b1f444694",
   "metadata": {},
   "outputs": [
    {
     "data": {
      "text/html": [
       "<div>\n",
       "<style scoped>\n",
       "    .dataframe tbody tr th:only-of-type {\n",
       "        vertical-align: middle;\n",
       "    }\n",
       "\n",
       "    .dataframe tbody tr th {\n",
       "        vertical-align: top;\n",
       "    }\n",
       "\n",
       "    .dataframe thead th {\n",
       "        text-align: right;\n",
       "    }\n",
       "</style>\n",
       "<table border=\"1\" class=\"dataframe\">\n",
       "  <thead>\n",
       "    <tr style=\"text-align: right;\">\n",
       "      <th></th>\n",
       "      <th>OBJECTID</th>\n",
       "      <th>STNAME</th>\n",
       "      <th>Shape_Leng</th>\n",
       "      <th>Shape_Le_1</th>\n",
       "      <th>FROM_</th>\n",
       "      <th>TO_</th>\n",
       "      <th>GlobalID</th>\n",
       "      <th>geometry</th>\n",
       "    </tr>\n",
       "  </thead>\n",
       "  <tbody>\n",
       "    <tr>\n",
       "      <th>0</th>\n",
       "      <td>1</td>\n",
       "      <td>CENTURY BLVD</td>\n",
       "      <td>8086.422780</td>\n",
       "      <td>8086.422780</td>\n",
       "      <td>VERMONT AVE</td>\n",
       "      <td>AVALON BLVD</td>\n",
       "      <td>bb3983d2-6187-447e-9496-f91f9e1e47dc</td>\n",
       "      <td>LINESTRING (-118.29183 33.94550, -118.28263 33...</td>\n",
       "    </tr>\n",
       "    <tr>\n",
       "      <th>1</th>\n",
       "      <td>2</td>\n",
       "      <td>FIGUEROA ST</td>\n",
       "      <td>10094.733456</td>\n",
       "      <td>1.911881</td>\n",
       "      <td>COLORADO BLVD</td>\n",
       "      <td>AVENUE 61</td>\n",
       "      <td>acb098aa-5d7d-480f-804f-bb4e3731d37a</td>\n",
       "      <td>LINESTRING (-118.18844 34.11174, -118.18831 34...</td>\n",
       "    </tr>\n",
       "    <tr>\n",
       "      <th>2</th>\n",
       "      <td>3</td>\n",
       "      <td>103RD ST</td>\n",
       "      <td>5221.430950</td>\n",
       "      <td>5221.430950</td>\n",
       "      <td>CENTRAL AVE</td>\n",
       "      <td>GRAPE ST\\r\\nGRAPE</td>\n",
       "      <td>b6274f91-d568-49ff-91cf-5ff41e23afa4</td>\n",
       "      <td>LINESTRING (-118.23689 33.94315, -118.23752 33...</td>\n",
       "    </tr>\n",
       "    <tr>\n",
       "      <th>3</th>\n",
       "      <td>4</td>\n",
       "      <td>MARENGO ST</td>\n",
       "      <td>1031.346095</td>\n",
       "      <td>1031.346095</td>\n",
       "      <td>STATE ST</td>\n",
       "      <td>CUMMINGS ST</td>\n",
       "      <td>35ea94e3-3210-4610-bd16-5d6f8e37e7ce</td>\n",
       "      <td>LINESTRING (-118.21017 34.05783, -118.20927 34...</td>\n",
       "    </tr>\n",
       "    <tr>\n",
       "      <th>4</th>\n",
       "      <td>5</td>\n",
       "      <td>ALAMEDA ST</td>\n",
       "      <td>8611.911036</td>\n",
       "      <td>8611.911036</td>\n",
       "      <td>6TH ST</td>\n",
       "      <td>ALPINE ST\\r\\nALPINE</td>\n",
       "      <td>c9633073-47a3-4057-8023-c0467de5d6eb</td>\n",
       "      <td>LINESTRING (-118.23630 34.06166, -118.23664 34...</td>\n",
       "    </tr>\n",
       "  </tbody>\n",
       "</table>\n",
       "</div>"
      ],
      "text/plain": [
       "   OBJECTID        STNAME    Shape_Leng   Shape_Le_1          FROM_  \\\n",
       "0         1  CENTURY BLVD   8086.422780  8086.422780    VERMONT AVE   \n",
       "1         2   FIGUEROA ST  10094.733456     1.911881  COLORADO BLVD   \n",
       "2         3      103RD ST   5221.430950  5221.430950    CENTRAL AVE   \n",
       "3         4    MARENGO ST   1031.346095  1031.346095       STATE ST   \n",
       "4         5    ALAMEDA ST   8611.911036  8611.911036         6TH ST   \n",
       "\n",
       "                   TO_                              GlobalID  \\\n",
       "0          AVALON BLVD  bb3983d2-6187-447e-9496-f91f9e1e47dc   \n",
       "1            AVENUE 61  acb098aa-5d7d-480f-804f-bb4e3731d37a   \n",
       "2    GRAPE ST\\r\\nGRAPE  b6274f91-d568-49ff-91cf-5ff41e23afa4   \n",
       "3          CUMMINGS ST  35ea94e3-3210-4610-bd16-5d6f8e37e7ce   \n",
       "4  ALPINE ST\\r\\nALPINE  c9633073-47a3-4057-8023-c0467de5d6eb   \n",
       "\n",
       "                                            geometry  \n",
       "0  LINESTRING (-118.29183 33.94550, -118.28263 33...  \n",
       "1  LINESTRING (-118.18844 34.11174, -118.18831 34...  \n",
       "2  LINESTRING (-118.23689 33.94315, -118.23752 33...  \n",
       "3  LINESTRING (-118.21017 34.05783, -118.20927 34...  \n",
       "4  LINESTRING (-118.23630 34.06166, -118.23664 34...  "
      ]
     },
     "execution_count": 7,
     "metadata": {},
     "output_type": "execute_result"
    }
   ],
   "source": [
    "high_injury_network.head()"
   ]
  },
  {
   "cell_type": "markdown",
   "id": "e30089ca-9d06-4c7c-a23f-421583b491a2",
   "metadata": {},
   "source": [
    "* The output shows the first 5 rows of data in the dataframe. We see the name of the street and the cross streets that the HIN spans too, as well as the their longitdue and latitude coordinates. "
   ]
  },
  {
   "cell_type": "markdown",
   "id": "ddca9638-8915-4b76-b6db-0eea9f231553",
   "metadata": {},
   "source": [
    "**Step 6:**: This next step will plot the data "
   ]
  },
  {
   "cell_type": "code",
   "execution_count": 8,
   "id": "849e1d28-0e9f-4db6-b169-af990d2f634e",
   "metadata": {},
   "outputs": [
    {
     "data": {
      "text/plain": [
       "<AxesSubplot:>"
      ]
     },
     "execution_count": 8,
     "metadata": {},
     "output_type": "execute_result"
    },
    {
     "data": {
      "image/png": "[encoded data removed]",
      "text/plain": [
       "<Figure size 432x288 with 1 Axes>"
      ]
     },
     "metadata": {
      "needs_background": "light"
     },
     "output_type": "display_data"
    }
   ],
   "source": [
    "high_injury_network.plot()"
   ]
  },
  {
   "cell_type": "markdown",
   "id": "661bae2c-32d4-4cca-ab51-c4efe82b2879",
   "metadata": {},
   "source": [
    "* This output plotted the data with longitude along the y axis and latitude along the x-axis, depicting what we can see as a map of the HIN streets. "
   ]
  },
  {
   "cell_type": "markdown",
   "id": "2ada8f1c-1c08-454a-956c-bb1e4eb3ee09",
   "metadata": {},
   "source": [
    "**Step 7:** For this next step, I will find the value counts for the Street Name, and will determine how many collisions took place at each given street name. "
   ]
  },
  {
   "cell_type": "code",
   "execution_count": 9,
   "id": "615b0f1c-6a14-454b-b8a6-20f7e787742b",
   "metadata": {},
   "outputs": [
    {
     "data": {
      "text/plain": [
       "['OBJECTID',\n",
       " 'STNAME',\n",
       " 'Shape_Leng',\n",
       " 'Shape_Le_1',\n",
       " 'FROM_',\n",
       " 'TO_',\n",
       " 'GlobalID',\n",
       " 'geometry']"
      ]
     },
     "execution_count": 9,
     "metadata": {},
     "output_type": "execute_result"
    }
   ],
   "source": [
    "high_injury_network.columns.to_list()"
   ]
  },
  {
   "cell_type": "markdown",
   "id": "937de28d-a345-4564-8371-d7f8c7e82dde",
   "metadata": {},
   "source": [
    "* Here the output shows a list of all column names, so I can determine which column I want to generate counts for"
   ]
  },
  {
   "cell_type": "code",
   "execution_count": 10,
   "id": "66d5626b-cd4b-4e99-bbbe-5a61bcddd420",
   "metadata": {},
   "outputs": [
    {
     "data": {
      "text/plain": [
       "VENTURA BLVD        6\n",
       "SEPULVEDA BLVD      6\n",
       "VICTORY BLVD        6\n",
       "NORMANDIE AVE       6\n",
       "FIGUEROA ST         5\n",
       "                   ..\n",
       "OLIVE ST            1\n",
       "11TH ST             1\n",
       "WESTMORELAND AVE    1\n",
       "KENMORE AVE         1\n",
       "22ND ST             1\n",
       "Name: STNAME, Length: 229, dtype: int64"
      ]
     },
     "execution_count": 10,
     "metadata": {},
     "output_type": "execute_result"
    }
   ],
   "source": [
    "high_injury_network['STNAME'].value_counts()"
   ]
  },
  {
   "cell_type": "markdown",
   "id": "48eee53c-f1a2-4da0-b52a-7d871566fcd3",
   "metadata": {},
   "source": [
    "* This output tells us how many occurences of severe and fatal collisions took place at each street name. For example, we can see that Ventura Boulevard, Sepulved Blvd, Victory Blvd, and Normandie Ave all had six occurences of collisions. "
   ]
  },
  {
   "cell_type": "code",
   "execution_count": 11,
   "id": "ce2f915e-ffa2-4920-9de1-f3a1a05d078c",
   "metadata": {},
   "outputs": [],
   "source": [
    "stname_count = high_injury_network['STNAME'].value_counts()"
   ]
  },
  {
   "cell_type": "markdown",
   "id": "937006d3-1b1e-4d7e-9e49-1b4128864eac",
   "metadata": {},
   "source": [
    "* I am now saving stname_count as a variable so that I can use it in further data exploration"
   ]
  },
  {
   "cell_type": "code",
   "execution_count": 12,
   "id": "7502bf4a-4b4a-4a32-a29a-7ede67eca9de",
   "metadata": {},
   "outputs": [
    {
     "data": {
      "text/plain": [
       "VENTURA BLVD        6\n",
       "SEPULVEDA BLVD      6\n",
       "VICTORY BLVD        6\n",
       "NORMANDIE AVE       6\n",
       "FIGUEROA ST         5\n",
       "                   ..\n",
       "OLIVE ST            1\n",
       "11TH ST             1\n",
       "WESTMORELAND AVE    1\n",
       "KENMORE AVE         1\n",
       "22ND ST             1\n",
       "Name: STNAME, Length: 229, dtype: int64"
      ]
     },
     "execution_count": 12,
     "metadata": {},
     "output_type": "execute_result"
    }
   ],
   "source": [
    "stname_count"
   ]
  },
  {
   "cell_type": "markdown",
   "id": "df3db24e-ad01-4304-8d68-1fd2e9b327c9",
   "metadata": {},
   "source": [
    "* this is the output of the variable stname_count I just generated"
   ]
  },
  {
   "cell_type": "markdown",
   "id": "dbfd25a3-8ebe-4fa4-a4d9-675c40a9d0aa",
   "metadata": {},
   "source": [
    "** Step 8**: I am now plotting the stname_count variable to visually see the counts on a bar chart"
   ]
  },
  {
   "cell_type": "code",
   "execution_count": 26,
   "id": "cb2db0a6-2d15-49a7-b8cd-6689e642ee5f",
   "metadata": {},
   "outputs": [
    {
     "data": {
      "text/plain": [
       "<AxesSubplot:title={'center':'Number of Collisions per Street'}>"
      ]
     },
     "execution_count": 26,
     "metadata": {},
     "output_type": "execute_result"
    },
    {
     "data": {
      "image/png": "[encoded data removed]",
      "text/plain": [
       "<Figure size 1440x864 with 1 Axes>"
      ]
     },
     "metadata": {
      "needs_background": "light"
     },
     "output_type": "display_data"
    }
   ],
   "source": [
    "stname_count.plot.bar(\n",
    "    figsize=(20,12), x = 'stname', y = 'count', title = 'Number of Collisions per Street')"
   ]
  },
  {
   "cell_type": "markdown",
   "id": "c5de830f-4a64-481d-9141-50e5d575d24b",
   "metadata": {},
   "source": [
    "* Here we see the number of collisions that took place at each street name."
   ]
  },
  {
   "cell_type": "markdown",
   "id": "6d6b23d7-8089-456a-9172-a9f198e627af",
   "metadata": {},
   "source": [
    "**Step 9**: I'm going to trim the data to get rid of unnecessary columns to make it easier to query later on. "
   ]
  },
  {
   "cell_type": "code",
   "execution_count": 27,
   "id": "a6df71ab-98f5-4d7a-b2de-391acde571e3",
   "metadata": {},
   "outputs": [
    {
     "name": "stdout",
     "output_type": "stream",
     "text": [
      "<class 'geopandas.geodataframe.GeoDataFrame'>\n",
      "RangeIndex: 386 entries, 0 to 385\n",
      "Data columns (total 8 columns):\n",
      " #   Column      Non-Null Count  Dtype   \n",
      "---  ------      --------------  -----   \n",
      " 0   OBJECTID    386 non-null    int64   \n",
      " 1   STNAME      386 non-null    object  \n",
      " 2   Shape_Leng  386 non-null    float64 \n",
      " 3   Shape_Le_1  386 non-null    float64 \n",
      " 4   FROM_       371 non-null    object  \n",
      " 5   TO_         371 non-null    object  \n",
      " 6   GlobalID    386 non-null    object  \n",
      " 7   geometry    386 non-null    geometry\n",
      "dtypes: float64(2), geometry(1), int64(1), object(4)\n",
      "memory usage: 24.2+ KB\n"
     ]
    }
   ],
   "source": [
    "high_injury_network.info()"
   ]
  },
  {
   "cell_type": "markdown",
   "id": "81238de7-54ec-445c-8332-47bc2c3138bb",
   "metadata": {},
   "source": [
    "* The output here shows the columns and their names so I can decide which columns to get rid of."
   ]
  },
  {
   "cell_type": "code",
   "execution_count": 44,
   "id": "8d63be81-6196-44e6-b8ac-e813967b7c48",
   "metadata": {},
   "outputs": [
    {
     "data": {
      "text/html": [
       "<div>\n",
       "<style scoped>\n",
       "    .dataframe tbody tr th:only-of-type {\n",
       "        vertical-align: middle;\n",
       "    }\n",
       "\n",
       "    .dataframe tbody tr th {\n",
       "        vertical-align: top;\n",
       "    }\n",
       "\n",
       "    .dataframe thead th {\n",
       "        text-align: right;\n",
       "    }\n",
       "</style>\n",
       "<table border=\"1\" class=\"dataframe\">\n",
       "  <thead>\n",
       "    <tr style=\"text-align: right;\">\n",
       "      <th></th>\n",
       "      <th>STNAME</th>\n",
       "      <th>FROM_</th>\n",
       "      <th>TO_</th>\n",
       "      <th>geometry</th>\n",
       "    </tr>\n",
       "  </thead>\n",
       "  <tbody>\n",
       "    <tr>\n",
       "      <th>0</th>\n",
       "      <td>CENTURY BLVD</td>\n",
       "      <td>VERMONT AVE</td>\n",
       "      <td>AVALON BLVD</td>\n",
       "      <td>LINESTRING (-118.29183 33.94550, -118.28263 33...</td>\n",
       "    </tr>\n",
       "    <tr>\n",
       "      <th>1</th>\n",
       "      <td>FIGUEROA ST</td>\n",
       "      <td>COLORADO BLVD</td>\n",
       "      <td>AVENUE 61</td>\n",
       "      <td>LINESTRING (-118.18844 34.11174, -118.18831 34...</td>\n",
       "    </tr>\n",
       "    <tr>\n",
       "      <th>2</th>\n",
       "      <td>103RD ST</td>\n",
       "      <td>CENTRAL AVE</td>\n",
       "      <td>GRAPE ST\\r\\nGRAPE</td>\n",
       "      <td>LINESTRING (-118.23689 33.94315, -118.23752 33...</td>\n",
       "    </tr>\n",
       "    <tr>\n",
       "      <th>3</th>\n",
       "      <td>MARENGO ST</td>\n",
       "      <td>STATE ST</td>\n",
       "      <td>CUMMINGS ST</td>\n",
       "      <td>LINESTRING (-118.21017 34.05783, -118.20927 34...</td>\n",
       "    </tr>\n",
       "    <tr>\n",
       "      <th>4</th>\n",
       "      <td>ALAMEDA ST</td>\n",
       "      <td>6TH ST</td>\n",
       "      <td>ALPINE ST\\r\\nALPINE</td>\n",
       "      <td>LINESTRING (-118.23630 34.06166, -118.23664 34...</td>\n",
       "    </tr>\n",
       "    <tr>\n",
       "      <th>...</th>\n",
       "      <td>...</td>\n",
       "      <td>...</td>\n",
       "      <td>...</td>\n",
       "      <td>...</td>\n",
       "    </tr>\n",
       "    <tr>\n",
       "      <th>381</th>\n",
       "      <td>FALLBROOK AVE</td>\n",
       "      <td>VICTORY BLVD</td>\n",
       "      <td>ROSCOE BLVD</td>\n",
       "      <td>LINESTRING (-118.62347 34.21939, -118.62346 34...</td>\n",
       "    </tr>\n",
       "    <tr>\n",
       "      <th>382</th>\n",
       "      <td>ROSCOE BLVD</td>\n",
       "      <td>TOPANGA CANYON</td>\n",
       "      <td>BALBOA BLVD</td>\n",
       "      <td>LINESTRING (-118.59753 34.21980, -118.60608 34...</td>\n",
       "    </tr>\n",
       "    <tr>\n",
       "      <th>383</th>\n",
       "      <td>DEVONSHIRE ST</td>\n",
       "      <td>None</td>\n",
       "      <td>None</td>\n",
       "      <td>LINESTRING (-118.50354 34.25753, -118.50249 34...</td>\n",
       "    </tr>\n",
       "    <tr>\n",
       "      <th>384</th>\n",
       "      <td>9TH ST</td>\n",
       "      <td>FIGUEROA ST</td>\n",
       "      <td>GLADYS AVE</td>\n",
       "      <td>LINESTRING (-118.26284 34.04619, -118.26199 34...</td>\n",
       "    </tr>\n",
       "    <tr>\n",
       "      <th>385</th>\n",
       "      <td>PACIFIC COAST HWY</td>\n",
       "      <td>TEMESCAL CANYON RD</td>\n",
       "      <td>SAN VICENTE BLVD</td>\n",
       "      <td>LINESTRING (-118.51705 34.02687, -118.51789 34...</td>\n",
       "    </tr>\n",
       "  </tbody>\n",
       "</table>\n",
       "<p>386 rows × 4 columns</p>\n",
       "</div>"
      ],
      "text/plain": [
       "                STNAME               FROM_                  TO_  \\\n",
       "0         CENTURY BLVD         VERMONT AVE          AVALON BLVD   \n",
       "1          FIGUEROA ST       COLORADO BLVD            AVENUE 61   \n",
       "2             103RD ST         CENTRAL AVE    GRAPE ST\\r\\nGRAPE   \n",
       "3           MARENGO ST            STATE ST          CUMMINGS ST   \n",
       "4           ALAMEDA ST              6TH ST  ALPINE ST\\r\\nALPINE   \n",
       "..                 ...                 ...                  ...   \n",
       "381      FALLBROOK AVE        VICTORY BLVD          ROSCOE BLVD   \n",
       "382        ROSCOE BLVD      TOPANGA CANYON          BALBOA BLVD   \n",
       "383      DEVONSHIRE ST                None                 None   \n",
       "384             9TH ST         FIGUEROA ST           GLADYS AVE   \n",
       "385  PACIFIC COAST HWY  TEMESCAL CANYON RD     SAN VICENTE BLVD   \n",
       "\n",
       "                                              geometry  \n",
       "0    LINESTRING (-118.29183 33.94550, -118.28263 33...  \n",
       "1    LINESTRING (-118.18844 34.11174, -118.18831 34...  \n",
       "2    LINESTRING (-118.23689 33.94315, -118.23752 33...  \n",
       "3    LINESTRING (-118.21017 34.05783, -118.20927 34...  \n",
       "4    LINESTRING (-118.23630 34.06166, -118.23664 34...  \n",
       "..                                                 ...  \n",
       "381  LINESTRING (-118.62347 34.21939, -118.62346 34...  \n",
       "382  LINESTRING (-118.59753 34.21980, -118.60608 34...  \n",
       "383  LINESTRING (-118.50354 34.25753, -118.50249 34...  \n",
       "384  LINESTRING (-118.26284 34.04619, -118.26199 34...  \n",
       "385  LINESTRING (-118.51705 34.02687, -118.51789 34...  \n",
       "\n",
       "[386 rows x 4 columns]"
      ]
     },
     "execution_count": 44,
     "metadata": {},
     "output_type": "execute_result"
    }
   ],
   "source": [
    "desired_columns = ['STNAME', 'FROM_', 'TO_', 'geometry']\n",
    "high_injury_network[desired_columns]"
   ]
  },
  {
   "cell_type": "markdown",
   "id": "53b475c8-9ba6-4646-af54-d3e3c6ddcf17",
   "metadata": {},
   "source": [
    "* The above selects two columns that I want to keep, STNAME, TO_, FROM_, and geometry, and then displays those columns in a dataframe"
   ]
  },
  {
   "cell_type": "markdown",
   "id": "ffd0e298-eceb-444b-8834-291935ae5344",
   "metadata": {},
   "source": [
    "**Step 10**: Now I will save the trimmed data as a new variable"
   ]
  },
  {
   "cell_type": "code",
   "execution_count": 45,
   "id": "30fb4e57-d794-4ee0-b58b-2cf3ecf8fa80",
   "metadata": {},
   "outputs": [
    {
     "data": {
      "text/html": [
       "<div>\n",
       "<style scoped>\n",
       "    .dataframe tbody tr th:only-of-type {\n",
       "        vertical-align: middle;\n",
       "    }\n",
       "\n",
       "    .dataframe tbody tr th {\n",
       "        vertical-align: top;\n",
       "    }\n",
       "\n",
       "    .dataframe thead th {\n",
       "        text-align: right;\n",
       "    }\n",
       "</style>\n",
       "<table border=\"1\" class=\"dataframe\">\n",
       "  <thead>\n",
       "    <tr style=\"text-align: right;\">\n",
       "      <th></th>\n",
       "      <th>STNAME</th>\n",
       "      <th>FROM_</th>\n",
       "      <th>TO_</th>\n",
       "      <th>geometry</th>\n",
       "    </tr>\n",
       "  </thead>\n",
       "  <tbody>\n",
       "    <tr>\n",
       "      <th>0</th>\n",
       "      <td>CENTURY BLVD</td>\n",
       "      <td>VERMONT AVE</td>\n",
       "      <td>AVALON BLVD</td>\n",
       "      <td>LINESTRING (-118.29183 33.94550, -118.28263 33...</td>\n",
       "    </tr>\n",
       "    <tr>\n",
       "      <th>1</th>\n",
       "      <td>FIGUEROA ST</td>\n",
       "      <td>COLORADO BLVD</td>\n",
       "      <td>AVENUE 61</td>\n",
       "      <td>LINESTRING (-118.18844 34.11174, -118.18831 34...</td>\n",
       "    </tr>\n",
       "    <tr>\n",
       "      <th>2</th>\n",
       "      <td>103RD ST</td>\n",
       "      <td>CENTRAL AVE</td>\n",
       "      <td>GRAPE ST\\r\\nGRAPE</td>\n",
       "      <td>LINESTRING (-118.23689 33.94315, -118.23752 33...</td>\n",
       "    </tr>\n",
       "    <tr>\n",
       "      <th>3</th>\n",
       "      <td>MARENGO ST</td>\n",
       "      <td>STATE ST</td>\n",
       "      <td>CUMMINGS ST</td>\n",
       "      <td>LINESTRING (-118.21017 34.05783, -118.20927 34...</td>\n",
       "    </tr>\n",
       "    <tr>\n",
       "      <th>4</th>\n",
       "      <td>ALAMEDA ST</td>\n",
       "      <td>6TH ST</td>\n",
       "      <td>ALPINE ST\\r\\nALPINE</td>\n",
       "      <td>LINESTRING (-118.23630 34.06166, -118.23664 34...</td>\n",
       "    </tr>\n",
       "    <tr>\n",
       "      <th>...</th>\n",
       "      <td>...</td>\n",
       "      <td>...</td>\n",
       "      <td>...</td>\n",
       "      <td>...</td>\n",
       "    </tr>\n",
       "    <tr>\n",
       "      <th>381</th>\n",
       "      <td>FALLBROOK AVE</td>\n",
       "      <td>VICTORY BLVD</td>\n",
       "      <td>ROSCOE BLVD</td>\n",
       "      <td>LINESTRING (-118.62347 34.21939, -118.62346 34...</td>\n",
       "    </tr>\n",
       "    <tr>\n",
       "      <th>382</th>\n",
       "      <td>ROSCOE BLVD</td>\n",
       "      <td>TOPANGA CANYON</td>\n",
       "      <td>BALBOA BLVD</td>\n",
       "      <td>LINESTRING (-118.59753 34.21980, -118.60608 34...</td>\n",
       "    </tr>\n",
       "    <tr>\n",
       "      <th>383</th>\n",
       "      <td>DEVONSHIRE ST</td>\n",
       "      <td>None</td>\n",
       "      <td>None</td>\n",
       "      <td>LINESTRING (-118.50354 34.25753, -118.50249 34...</td>\n",
       "    </tr>\n",
       "    <tr>\n",
       "      <th>384</th>\n",
       "      <td>9TH ST</td>\n",
       "      <td>FIGUEROA ST</td>\n",
       "      <td>GLADYS AVE</td>\n",
       "      <td>LINESTRING (-118.26284 34.04619, -118.26199 34...</td>\n",
       "    </tr>\n",
       "    <tr>\n",
       "      <th>385</th>\n",
       "      <td>PACIFIC COAST HWY</td>\n",
       "      <td>TEMESCAL CANYON RD</td>\n",
       "      <td>SAN VICENTE BLVD</td>\n",
       "      <td>LINESTRING (-118.51705 34.02687, -118.51789 34...</td>\n",
       "    </tr>\n",
       "  </tbody>\n",
       "</table>\n",
       "<p>386 rows × 4 columns</p>\n",
       "</div>"
      ],
      "text/plain": [
       "                STNAME               FROM_                  TO_  \\\n",
       "0         CENTURY BLVD         VERMONT AVE          AVALON BLVD   \n",
       "1          FIGUEROA ST       COLORADO BLVD            AVENUE 61   \n",
       "2             103RD ST         CENTRAL AVE    GRAPE ST\\r\\nGRAPE   \n",
       "3           MARENGO ST            STATE ST          CUMMINGS ST   \n",
       "4           ALAMEDA ST              6TH ST  ALPINE ST\\r\\nALPINE   \n",
       "..                 ...                 ...                  ...   \n",
       "381      FALLBROOK AVE        VICTORY BLVD          ROSCOE BLVD   \n",
       "382        ROSCOE BLVD      TOPANGA CANYON          BALBOA BLVD   \n",
       "383      DEVONSHIRE ST                None                 None   \n",
       "384             9TH ST         FIGUEROA ST           GLADYS AVE   \n",
       "385  PACIFIC COAST HWY  TEMESCAL CANYON RD     SAN VICENTE BLVD   \n",
       "\n",
       "                                              geometry  \n",
       "0    LINESTRING (-118.29183 33.94550, -118.28263 33...  \n",
       "1    LINESTRING (-118.18844 34.11174, -118.18831 34...  \n",
       "2    LINESTRING (-118.23689 33.94315, -118.23752 33...  \n",
       "3    LINESTRING (-118.21017 34.05783, -118.20927 34...  \n",
       "4    LINESTRING (-118.23630 34.06166, -118.23664 34...  \n",
       "..                                                 ...  \n",
       "381  LINESTRING (-118.62347 34.21939, -118.62346 34...  \n",
       "382  LINESTRING (-118.59753 34.21980, -118.60608 34...  \n",
       "383  LINESTRING (-118.50354 34.25753, -118.50249 34...  \n",
       "384  LINESTRING (-118.26284 34.04619, -118.26199 34...  \n",
       "385  LINESTRING (-118.51705 34.02687, -118.51789 34...  \n",
       "\n",
       "[386 rows x 4 columns]"
      ]
     },
     "execution_count": 45,
     "metadata": {},
     "output_type": "execute_result"
    }
   ],
   "source": [
    "hin_trimmed = high_injury_network[desired_columns].copy()\n",
    "hin_trimmed"
   ]
  },
  {
   "cell_type": "markdown",
   "id": "99c4e837-36d8-47bf-af4b-fb00bd632efe",
   "metadata": {},
   "source": [
    "* Here the new variable, hin_trimmed, displays just the four columns that we want to work with, STNAME, TO_, FROM_, and geometry."
   ]
  },
  {
   "cell_type": "markdown",
   "id": "e1084416-068f-4a78-86f5-c848d048d080",
   "metadata": {},
   "source": [
    "**Step 11:** Now I will query the data. I want to see only collisions that occured at Ventura Blvd and then at Olive Street. "
   ]
  },
  {
   "cell_type": "code",
   "execution_count": 46,
   "id": "056e921f-2b94-483b-9a7c-f90efbe3789e",
   "metadata": {},
   "outputs": [
    {
     "data": {
      "text/html": [
       "<div>\n",
       "<style scoped>\n",
       "    .dataframe tbody tr th:only-of-type {\n",
       "        vertical-align: middle;\n",
       "    }\n",
       "\n",
       "    .dataframe tbody tr th {\n",
       "        vertical-align: top;\n",
       "    }\n",
       "\n",
       "    .dataframe thead th {\n",
       "        text-align: right;\n",
       "    }\n",
       "</style>\n",
       "<table border=\"1\" class=\"dataframe\">\n",
       "  <thead>\n",
       "    <tr style=\"text-align: right;\">\n",
       "      <th></th>\n",
       "      <th>STNAME</th>\n",
       "      <th>FROM_</th>\n",
       "      <th>TO_</th>\n",
       "      <th>geometry</th>\n",
       "    </tr>\n",
       "  </thead>\n",
       "  <tbody>\n",
       "    <tr>\n",
       "      <th>272</th>\n",
       "      <td>VENTURA BLVD</td>\n",
       "      <td>None</td>\n",
       "      <td>None</td>\n",
       "      <td>LINESTRING (-118.37448 34.14186, -118.37439 34...</td>\n",
       "    </tr>\n",
       "    <tr>\n",
       "      <th>273</th>\n",
       "      <td>VENTURA BLVD</td>\n",
       "      <td>COLDWATER CANYON AVE</td>\n",
       "      <td>CARPENTER AVE</td>\n",
       "      <td>LINESTRING (-118.41374 34.14512, -118.41248 34...</td>\n",
       "    </tr>\n",
       "    <tr>\n",
       "      <th>275</th>\n",
       "      <td>VENTURA BLVD</td>\n",
       "      <td>HAZELTINE AVE</td>\n",
       "      <td>WOODMAN AVE</td>\n",
       "      <td>LINESTRING (-118.43997 34.14947, -118.43404 34...</td>\n",
       "    </tr>\n",
       "    <tr>\n",
       "      <th>277</th>\n",
       "      <td>VENTURA BLVD</td>\n",
       "      <td>AMESTOY AVE</td>\n",
       "      <td>VAN NUYS BLVD</td>\n",
       "      <td>LINESTRING (-118.50546 34.16024, -118.50112 34...</td>\n",
       "    </tr>\n",
       "    <tr>\n",
       "      <th>288</th>\n",
       "      <td>VENTURA BLVD</td>\n",
       "      <td>WINNETKA AVE</td>\n",
       "      <td>WHITE OAK AVE</td>\n",
       "      <td>LINESTRING (-118.57093 34.17096, -118.56865 34...</td>\n",
       "    </tr>\n",
       "    <tr>\n",
       "      <th>289</th>\n",
       "      <td>VENTURA BLVD</td>\n",
       "      <td>TOPANGA CANYON BLVD</td>\n",
       "      <td>CANOGA AVE</td>\n",
       "      <td>LINESTRING (-118.60584 34.16849, -118.60379 34...</td>\n",
       "    </tr>\n",
       "  </tbody>\n",
       "</table>\n",
       "</div>"
      ],
      "text/plain": [
       "           STNAME                 FROM_            TO_  \\\n",
       "272  VENTURA BLVD                  None           None   \n",
       "273  VENTURA BLVD  COLDWATER CANYON AVE  CARPENTER AVE   \n",
       "275  VENTURA BLVD         HAZELTINE AVE    WOODMAN AVE   \n",
       "277  VENTURA BLVD           AMESTOY AVE  VAN NUYS BLVD   \n",
       "288  VENTURA BLVD          WINNETKA AVE  WHITE OAK AVE   \n",
       "289  VENTURA BLVD   TOPANGA CANYON BLVD     CANOGA AVE   \n",
       "\n",
       "                                              geometry  \n",
       "272  LINESTRING (-118.37448 34.14186, -118.37439 34...  \n",
       "273  LINESTRING (-118.41374 34.14512, -118.41248 34...  \n",
       "275  LINESTRING (-118.43997 34.14947, -118.43404 34...  \n",
       "277  LINESTRING (-118.50546 34.16024, -118.50112 34...  \n",
       "288  LINESTRING (-118.57093 34.17096, -118.56865 34...  \n",
       "289  LINESTRING (-118.60584 34.16849, -118.60379 34...  "
      ]
     },
     "execution_count": 46,
     "metadata": {},
     "output_type": "execute_result"
    }
   ],
   "source": [
    "hin_trimmed[hin_trimmed.STNAME == 'VENTURA BLVD']"
   ]
  },
  {
   "cell_type": "markdown",
   "id": "830a9856-fae4-4ed5-918b-40a4cc489262",
   "metadata": {},
   "source": [
    "* The output here shows us the six collisions that took place at Ventura Blvd only. "
   ]
  },
  {
   "cell_type": "code",
   "execution_count": 55,
   "id": "e0540557-e5d0-40a2-9028-03af058ec532",
   "metadata": {},
   "outputs": [
    {
     "data": {
      "text/html": [
       "<div>\n",
       "<style scoped>\n",
       "    .dataframe tbody tr th:only-of-type {\n",
       "        vertical-align: middle;\n",
       "    }\n",
       "\n",
       "    .dataframe tbody tr th {\n",
       "        vertical-align: top;\n",
       "    }\n",
       "\n",
       "    .dataframe thead th {\n",
       "        text-align: right;\n",
       "    }\n",
       "</style>\n",
       "<table border=\"1\" class=\"dataframe\">\n",
       "  <thead>\n",
       "    <tr style=\"text-align: right;\">\n",
       "      <th></th>\n",
       "      <th>STNAME</th>\n",
       "      <th>FROM_</th>\n",
       "      <th>TO_</th>\n",
       "      <th>geometry</th>\n",
       "    </tr>\n",
       "  </thead>\n",
       "  <tbody>\n",
       "    <tr>\n",
       "      <th>143</th>\n",
       "      <td>OLIVE ST</td>\n",
       "      <td>PICO BLVD</td>\n",
       "      <td>12TH ST</td>\n",
       "      <td>LINESTRING (-118.26329 34.03831, -118.26222 34...</td>\n",
       "    </tr>\n",
       "  </tbody>\n",
       "</table>\n",
       "</div>"
      ],
      "text/plain": [
       "       STNAME      FROM_      TO_  \\\n",
       "143  OLIVE ST  PICO BLVD  12TH ST   \n",
       "\n",
       "                                              geometry  \n",
       "143  LINESTRING (-118.26329 34.03831, -118.26222 34...  "
      ]
     },
     "execution_count": 55,
     "metadata": {},
     "output_type": "execute_result"
    }
   ],
   "source": [
    "hin_trimmed[hin_trimmed.STNAME == 'OLIVE ST']"
   ]
  },
  {
   "cell_type": "markdown",
   "id": "2f5463b8-29a5-401c-8299-20fdc1eff8e5",
   "metadata": {},
   "source": [
    "* This next query output shows that only one collision took place at Olive Street."
   ]
  },
  {
   "cell_type": "markdown",
   "id": "5c66ce74-86b8-426b-971b-5a263f3cd8f0",
   "metadata": {},
   "source": [
    "**Step 12**: Here I wanted to test if I could use my stname_count variable that I generated earlier to produce an output of a desired count number."
   ]
  },
  {
   "cell_type": "code",
   "execution_count": 60,
   "id": "2d5da448-5911-4b6f-a89a-7ee857f9d8d1",
   "metadata": {},
   "outputs": [
    {
     "data": {
      "text/plain": [
       "4TH ST           4\n",
       "HOOVER ST        4\n",
       "BROADWAY         4\n",
       "FRANKLIN AVE     4\n",
       "PICO BLVD        4\n",
       "FOOTHILL BLVD    4\n",
       "VAN NUYS BLVD    4\n",
       "PARTHENIA ST     4\n",
       "SHERMAN WAY      4\n",
       "MAIN ST          4\n",
       "Name: STNAME, dtype: int64"
      ]
     },
     "execution_count": 60,
     "metadata": {},
     "output_type": "execute_result"
    }
   ],
   "source": [
    "stname_count[stname_count == 4]"
   ]
  },
  {
   "cell_type": "markdown",
   "id": "dd0fbc1e-5cfa-4f76-9d6f-9a9e2dd46a1b",
   "metadata": {},
   "source": [
    "* here the output shows the street names that all occur 4 times!"
   ]
  },
  {
   "cell_type": "code",
   "execution_count": null,
   "id": "b6ef8dd8-5763-475d-be5a-1af58424d54b",
   "metadata": {},
   "outputs": [],
   "source": []
  }
 ],
 "metadata": {
  "kernelspec": {
   "display_name": "Python 3 (ipykernel)",
   "language": "python",
   "name": "python3"
  },
  "language_info": {
   "codemirror_mode": {
    "name": "ipython",
    "version": 3
   },
   "file_extension": ".py",
   "mimetype": "text/x-python",
   "name": "python",
   "nbconvert_exporter": "python",
   "pygments_lexer": "ipython3",
   "version": "3.9.6"
  }
 },
 "nbformat": 4,
 "nbformat_minor": 5
}
